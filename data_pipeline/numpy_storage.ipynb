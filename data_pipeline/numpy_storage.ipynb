{
 "cells": [
  {
   "cell_type": "markdown",
   "id": "21ce4a90",
   "metadata": {},
   "source": [
    "# Attempt to store data as raw numpy arrays"
   ]
  },
  {
   "cell_type": "code",
   "execution_count": 1,
   "id": "78779a25",
   "metadata": {},
   "outputs": [],
   "source": [
    "import numpy as np\n",
    "import pandas as pd\n",
    "import cv2\n",
    "import matplotlib.pyplot as plt"
   ]
  },
  {
   "cell_type": "code",
   "execution_count": 2,
   "id": "cef5202a",
   "metadata": {},
   "outputs": [],
   "source": [
    "csv_data = \"C:/Users/pedro/OneDrive/Escritorio/Proyecto_IA_SS/Cancer_de_Mama_IA_SS_2023/data/train.csv\""
   ]
  },
  {
   "cell_type": "code",
   "execution_count": 3,
   "id": "b16dfa73",
   "metadata": {},
   "outputs": [
    {
     "data": {
      "text/html": [
       "<div>\n",
       "<style scoped>\n",
       "    .dataframe tbody tr th:only-of-type {\n",
       "        vertical-align: middle;\n",
       "    }\n",
       "\n",
       "    .dataframe tbody tr th {\n",
       "        vertical-align: top;\n",
       "    }\n",
       "\n",
       "    .dataframe thead th {\n",
       "        text-align: right;\n",
       "    }\n",
       "</style>\n",
       "<table border=\"1\" class=\"dataframe\">\n",
       "  <thead>\n",
       "    <tr style=\"text-align: right;\">\n",
       "      <th></th>\n",
       "      <th>site_id</th>\n",
       "      <th>patient_id</th>\n",
       "      <th>image_id</th>\n",
       "      <th>laterality</th>\n",
       "      <th>view</th>\n",
       "      <th>age</th>\n",
       "      <th>cancer</th>\n",
       "      <th>biopsy</th>\n",
       "      <th>invasive</th>\n",
       "      <th>BIRADS</th>\n",
       "      <th>implant</th>\n",
       "      <th>density</th>\n",
       "      <th>machine_id</th>\n",
       "      <th>difficult_negative_case</th>\n",
       "    </tr>\n",
       "  </thead>\n",
       "  <tbody>\n",
       "    <tr>\n",
       "      <th>0</th>\n",
       "      <td>2</td>\n",
       "      <td>10006</td>\n",
       "      <td>462822612</td>\n",
       "      <td>L</td>\n",
       "      <td>CC</td>\n",
       "      <td>61.0</td>\n",
       "      <td>0</td>\n",
       "      <td>0</td>\n",
       "      <td>0</td>\n",
       "      <td>NaN</td>\n",
       "      <td>0</td>\n",
       "      <td>NaN</td>\n",
       "      <td>29</td>\n",
       "      <td>False</td>\n",
       "    </tr>\n",
       "    <tr>\n",
       "      <th>1</th>\n",
       "      <td>2</td>\n",
       "      <td>10006</td>\n",
       "      <td>1459541791</td>\n",
       "      <td>L</td>\n",
       "      <td>MLO</td>\n",
       "      <td>61.0</td>\n",
       "      <td>0</td>\n",
       "      <td>0</td>\n",
       "      <td>0</td>\n",
       "      <td>NaN</td>\n",
       "      <td>0</td>\n",
       "      <td>NaN</td>\n",
       "      <td>29</td>\n",
       "      <td>False</td>\n",
       "    </tr>\n",
       "    <tr>\n",
       "      <th>2</th>\n",
       "      <td>2</td>\n",
       "      <td>10006</td>\n",
       "      <td>1864590858</td>\n",
       "      <td>R</td>\n",
       "      <td>MLO</td>\n",
       "      <td>61.0</td>\n",
       "      <td>0</td>\n",
       "      <td>0</td>\n",
       "      <td>0</td>\n",
       "      <td>NaN</td>\n",
       "      <td>0</td>\n",
       "      <td>NaN</td>\n",
       "      <td>29</td>\n",
       "      <td>False</td>\n",
       "    </tr>\n",
       "    <tr>\n",
       "      <th>3</th>\n",
       "      <td>2</td>\n",
       "      <td>10006</td>\n",
       "      <td>1874946579</td>\n",
       "      <td>R</td>\n",
       "      <td>CC</td>\n",
       "      <td>61.0</td>\n",
       "      <td>0</td>\n",
       "      <td>0</td>\n",
       "      <td>0</td>\n",
       "      <td>NaN</td>\n",
       "      <td>0</td>\n",
       "      <td>NaN</td>\n",
       "      <td>29</td>\n",
       "      <td>False</td>\n",
       "    </tr>\n",
       "    <tr>\n",
       "      <th>4</th>\n",
       "      <td>2</td>\n",
       "      <td>10011</td>\n",
       "      <td>220375232</td>\n",
       "      <td>L</td>\n",
       "      <td>CC</td>\n",
       "      <td>55.0</td>\n",
       "      <td>0</td>\n",
       "      <td>0</td>\n",
       "      <td>0</td>\n",
       "      <td>0.0</td>\n",
       "      <td>0</td>\n",
       "      <td>NaN</td>\n",
       "      <td>21</td>\n",
       "      <td>True</td>\n",
       "    </tr>\n",
       "  </tbody>\n",
       "</table>\n",
       "</div>"
      ],
      "text/plain": [
       "   site_id  patient_id    image_id laterality view   age  cancer  biopsy  \\\n",
       "0        2       10006   462822612          L   CC  61.0       0       0   \n",
       "1        2       10006  1459541791          L  MLO  61.0       0       0   \n",
       "2        2       10006  1864590858          R  MLO  61.0       0       0   \n",
       "3        2       10006  1874946579          R   CC  61.0       0       0   \n",
       "4        2       10011   220375232          L   CC  55.0       0       0   \n",
       "\n",
       "   invasive  BIRADS  implant density  machine_id  difficult_negative_case  \n",
       "0         0     NaN        0     NaN          29                    False  \n",
       "1         0     NaN        0     NaN          29                    False  \n",
       "2         0     NaN        0     NaN          29                    False  \n",
       "3         0     NaN        0     NaN          29                    False  \n",
       "4         0     0.0        0     NaN          21                     True  "
      ]
     },
     "execution_count": 3,
     "metadata": {},
     "output_type": "execute_result"
    }
   ],
   "source": [
    "data = pd.read_csv(csv_data)\n",
    "data.head()"
   ]
  },
  {
   "cell_type": "code",
   "execution_count": 30,
   "id": "cab19fee",
   "metadata": {},
   "outputs": [],
   "source": [
    "# Let´s read the first image\n",
    "image_2 = cv2.imread(\"C:/Users/pedro/OneDrive/Escritorio/Proyecto_IA_SS/Cancer_de_Mama_IA_SS_2023/data/raw_images/10006_1459541791.png\", cv2.IMREAD_GRAYSCALE)"
   ]
  },
  {
   "cell_type": "code",
   "execution_count": 31,
   "id": "dbd7d914",
   "metadata": {},
   "outputs": [],
   "source": [
    "image_1 = cv2.imread(\"C:/Users/pedro/OneDrive/Escritorio/Proyecto_IA_SS/Cancer_de_Mama_IA_SS_2023/data/raw_images/10006_462822612.png\", cv2.IMREAD_GRAYSCALE)"
   ]
  },
  {
   "cell_type": "code",
   "execution_count": 16,
   "id": "8f4cefa8",
   "metadata": {},
   "outputs": [
    {
     "data": {
      "image/png": "[encoded data removed]",
      "text/plain": [
       "<Figure size 640x480 with 1 Axes>"
      ]
     },
     "metadata": {},
     "output_type": "display_data"
    }
   ],
   "source": [
    "plt.imshow(image, cmap=\"gray\")\n",
    "plt.show()"
   ]
  },
  {
   "cell_type": "code",
   "execution_count": 32,
   "id": "adf94c14",
   "metadata": {},
   "outputs": [
    {
     "data": {
      "text/plain": [
       "(array([[0, 0, 0, ..., 0, 0, 0],\n",
       "        [0, 0, 0, ..., 0, 0, 0],\n",
       "        [0, 0, 0, ..., 0, 0, 0],\n",
       "        ...,\n",
       "        [0, 0, 0, ..., 0, 0, 0],\n",
       "        [0, 0, 0, ..., 0, 0, 0],\n",
       "        [0, 0, 0, ..., 0, 0, 0]], dtype=uint8),\n",
       " array([[199, 195, 218, ...,   0,   0,   0],\n",
       "        [183, 221, 202, ...,   0,   0,   0],\n",
       "        [196, 214, 194, ...,   0,   0,   0],\n",
       "        ...,\n",
       "        [129, 137, 101, ...,   0,   0,   0],\n",
       "        [145, 128, 113, ...,   0,   0,   0],\n",
       "        [140, 116, 101, ...,   0,   0,   0]], dtype=uint8))"
      ]
     },
     "execution_count": 32,
     "metadata": {},
     "output_type": "execute_result"
    }
   ],
   "source": [
    "image_1, image_2"
   ]
  },
  {
   "cell_type": "code",
   "execution_count": 33,
   "id": "8fb15cd6",
   "metadata": {},
   "outputs": [
    {
     "data": {
      "text/plain": [
       "array(0, dtype=int64)"
      ]
     },
     "execution_count": 33,
     "metadata": {},
     "output_type": "execute_result"
    }
   ],
   "source": [
    "# label\n",
    "label_image_1 = data[\"cancer\"][0]\n",
    "label_image_1 = np.array(label_image_1)\n",
    "label_image_1"
   ]
  },
  {
   "cell_type": "code",
   "execution_count": 34,
   "id": "7800aa6b",
   "metadata": {},
   "outputs": [
    {
     "data": {
      "text/plain": [
       "array(0, dtype=int64)"
      ]
     },
     "execution_count": 34,
     "metadata": {},
     "output_type": "execute_result"
    }
   ],
   "source": [
    "label_image_2 = data[\"cancer\"][1]\n",
    "label_image_2 = np.array(label_image_2)\n",
    "label_image_2"
   ]
  },
  {
   "cell_type": "code",
   "execution_count": 19,
   "id": "f669dafa",
   "metadata": {},
   "outputs": [
    {
     "name": "stdout",
     "output_type": "stream",
     "text": [
      "<class 'numpy.ndarray'> <class 'numpy.ndarray'>\n"
     ]
    }
   ],
   "source": [
    "# both as numpy arrays\n",
    "\n",
    "print(type(image), type(label_image))"
   ]
  },
  {
   "cell_type": "code",
   "execution_count": 36,
   "id": "9fa88cf6",
   "metadata": {},
   "outputs": [],
   "source": [
    "with open('test.npy', 'wb') as f:\n",
    "    np.save(f, (image_1, image_2))\n",
    "    np.save(f, (label_image_1, label_image_2))"
   ]
  },
  {
   "cell_type": "code",
   "execution_count": 39,
   "id": "7d2a5de8",
   "metadata": {},
   "outputs": [
    {
     "name": "stdout",
     "output_type": "stream",
     "text": [
      "[[[  0   0   0 ...   0   0   0]\n",
      "  [  0   0   0 ...   0   0   0]\n",
      "  [  0   0   0 ...   0   0   0]\n",
      "  ...\n",
      "  [  0   0   0 ...   0   0   0]\n",
      "  [  0   0   0 ...   0   0   0]\n",
      "  [  0   0   0 ...   0   0   0]]\n",
      "\n",
      " [[199 195 218 ...   0   0   0]\n",
      "  [183 221 202 ...   0   0   0]\n",
      "  [196 214 194 ...   0   0   0]\n",
      "  ...\n",
      "  [129 137 101 ...   0   0   0]\n",
      "  [145 128 113 ...   0   0   0]\n",
      "  [140 116 101 ...   0   0   0]]] [0 0]\n"
     ]
    }
   ],
   "source": [
    "with open('test.npy', 'rb') as f:\n",
    "    X = np.load(f)\n",
    "    y = np.load(f)\n",
    "print(X, y)"
   ]
  },
  {
   "cell_type": "markdown",
   "id": "c53f670e",
   "metadata": {},
   "source": [
    "### Now let´s try to process all train images"
   ]
  },
  {
   "cell_type": "code",
   "execution_count": 2,
   "id": "c92f98f4",
   "metadata": {},
   "outputs": [
    {
     "data": {
      "text/html": [
       "<div>\n",
       "<style scoped>\n",
       "    .dataframe tbody tr th:only-of-type {\n",
       "        vertical-align: middle;\n",
       "    }\n",
       "\n",
       "    .dataframe tbody tr th {\n",
       "        vertical-align: top;\n",
       "    }\n",
       "\n",
       "    .dataframe thead th {\n",
       "        text-align: right;\n",
       "    }\n",
       "</style>\n",
       "<table border=\"1\" class=\"dataframe\">\n",
       "  <thead>\n",
       "    <tr style=\"text-align: right;\">\n",
       "      <th></th>\n",
       "      <th>Filepath</th>\n",
       "      <th>Label</th>\n",
       "    </tr>\n",
       "  </thead>\n",
       "  <tbody>\n",
       "    <tr>\n",
       "      <th>0</th>\n",
       "      <td>C:/Users/pedro/OneDrive/Escritorio/Proyecto_IA...</td>\n",
       "      <td>0</td>\n",
       "    </tr>\n",
       "    <tr>\n",
       "      <th>1</th>\n",
       "      <td>C:/Users/pedro/OneDrive/Escritorio/Proyecto_IA...</td>\n",
       "      <td>1</td>\n",
       "    </tr>\n",
       "    <tr>\n",
       "      <th>2</th>\n",
       "      <td>C:/Users/pedro/OneDrive/Escritorio/Proyecto_IA...</td>\n",
       "      <td>1</td>\n",
       "    </tr>\n",
       "    <tr>\n",
       "      <th>3</th>\n",
       "      <td>C:/Users/pedro/OneDrive/Escritorio/Proyecto_IA...</td>\n",
       "      <td>1</td>\n",
       "    </tr>\n",
       "    <tr>\n",
       "      <th>4</th>\n",
       "      <td>C:/Users/pedro/OneDrive/Escritorio/Proyecto_IA...</td>\n",
       "      <td>1</td>\n",
       "    </tr>\n",
       "  </tbody>\n",
       "</table>\n",
       "</div>"
      ],
      "text/plain": [
       "                                            Filepath  Label\n",
       "0  C:/Users/pedro/OneDrive/Escritorio/Proyecto_IA...      0\n",
       "1  C:/Users/pedro/OneDrive/Escritorio/Proyecto_IA...      1\n",
       "2  C:/Users/pedro/OneDrive/Escritorio/Proyecto_IA...      1\n",
       "3  C:/Users/pedro/OneDrive/Escritorio/Proyecto_IA...      1\n",
       "4  C:/Users/pedro/OneDrive/Escritorio/Proyecto_IA...      1"
      ]
     },
     "execution_count": 2,
     "metadata": {},
     "output_type": "execute_result"
    }
   ],
   "source": [
    "train_filepath = \"C:/Users/pedro/OneDrive/Escritorio/Proyecto_IA_SS/Cancer_de_Mama_IA_SS_2023/models/new_train.csv\"\n",
    "\n",
    "train_data = pd.read_csv(train_filepath, names=[\"Filepath\", \"Label\"]) \n",
    "train_data.head()"
   ]
  },
  {
   "cell_type": "code",
   "execution_count": 3,
   "id": "e82081ac",
   "metadata": {},
   "outputs": [
    {
     "data": {
      "text/plain": [
       "(1852, 2)"
      ]
     },
     "execution_count": 3,
     "metadata": {},
     "output_type": "execute_result"
    }
   ],
   "source": [
    "train_data.shape"
   ]
  },
  {
   "cell_type": "code",
   "execution_count": 25,
   "id": "12894fca",
   "metadata": {},
   "outputs": [],
   "source": [
    "images = []\n",
    "labels = []\n",
    "for i in range(len(train_data)):\n",
    "    image = cv2.imread(train_data[\"Filepath\"][i], 0)\n",
    "    label = train_data[\"Label\"][i]  \n",
    "    \n",
    "    images.append(image)\n",
    "    labels.append(label)"
   ]
  },
  {
   "cell_type": "code",
   "execution_count": 26,
   "id": "c7030a7a",
   "metadata": {},
   "outputs": [],
   "source": [
    "with open('Raw_images.npy', 'wb') as f:\n",
    "    np.save(f, images)\n",
    "    np.save(f, labels)"
   ]
  },
  {
   "cell_type": "code",
   "execution_count": 31,
   "id": "89ea8208",
   "metadata": {},
   "outputs": [
    {
     "name": "stdout",
     "output_type": "stream",
     "text": [
      "(1852, 256, 256) (1852,)\n"
     ]
    }
   ],
   "source": [
    "with open('Raw_images.npy', 'rb') as f:\n",
    "    X = np.load(f, allow_pickle=True)\n",
    "    y = np.load(f, allow_pickle=True)\n",
    "print(X.shape, y.shape)"
   ]
  },
  {
   "cell_type": "code",
   "execution_count": 33,
   "id": "d14f60bd",
   "metadata": {},
   "outputs": [
    {
     "data": {
      "text/plain": [
       "array([0, 1, 1, ..., 1, 0, 1], dtype=int64)"
      ]
     },
     "execution_count": 33,
     "metadata": {},
     "output_type": "execute_result"
    }
   ],
   "source": [
    "y"
   ]
  },
  {
   "cell_type": "markdown",
   "id": "d08de5e7",
   "metadata": {},
   "source": [
    "#### Additional script in this directory to test conv net training"
   ]
  }
 ],
 "metadata": {
  "kernelspec": {
   "display_name": "venv",
   "language": "python",
   "name": "venv"
  },
  "language_info": {
   "codemirror_mode": {
    "name": "ipython",
    "version": 3
   },
   "file_extension": ".py",
   "mimetype": "text/x-python",
   "name": "python",
   "nbconvert_exporter": "python",
   "pygments_lexer": "ipython3",
   "version": "3.10.11"
  }
 },
 "nbformat": 4,
 "nbformat_minor": 5
}
